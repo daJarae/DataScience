{
  "nbformat": 4,
  "nbformat_minor": 0,
  "metadata": {
    "colab": {
      "provenance": [],
      "authorship_tag": "ABX9TyMonA9lF3+THenPhbFXqSu2",
      "include_colab_link": true
    },
    "kernelspec": {
      "name": "ir",
      "display_name": "R"
    },
    "language_info": {
      "name": "R"
    }
  },
  "cells": [
    {
      "cell_type": "markdown",
      "metadata": {
        "id": "view-in-github",
        "colab_type": "text"
      },
      "source": [
        "<a href=\"https://colab.research.google.com/github/daJarae/DataScience/blob/main/R_IDS1_4_pokemon.ipynb\" target=\"_parent\"><img src=\"https://colab.research.google.com/assets/colab-badge.svg\" alt=\"Open In Colab\"/></a>"
      ]
    },
    {
      "cell_type": "markdown",
      "source": [
        "#Introduction to Data Science\n",
        "\n",
        "Ch2 ~ Ch4"
      ],
      "metadata": {
        "id": "PlQgk9vjfIE-"
      }
    },
    {
      "cell_type": "markdown",
      "source": [
        "전체 내용은 \"Introduction to Data Science\"의 커리큘럼을 따르며, 기초적인 일부는 생략합니다.\n",
        "\n",
        "R 복습용으로 만든 포켓몬 종족값 데이터를 불러옵니다.\n",
        "\n",
        "복습 코드를 학습하기 전에 도감 번호를 통해 '세대' 컬럼을 추가합니다. (9세대인 팔데아는 없음)"
      ],
      "metadata": {
        "id": "pU06DBPYEOJh"
      }
    },
    {
      "cell_type": "code",
      "source": [
        "pkm=read.csv('/content/pkm_many_nan.csv')"
      ],
      "metadata": {
        "id": "MOaLL1oUDvDV"
      },
      "execution_count": 2,
      "outputs": []
    },
    {
      "cell_type": "markdown",
      "source": [
        "포켓몬 지방도감 001번은 풀타입 스타팅 포켓몬입니다."
      ],
      "metadata": {
        "id": "eG0lNomrEvi2"
      }
    },
    {
      "cell_type": "code",
      "source": [
        "print(c(pkm$이름[1],pkm$번호[1])) #1 관동 시작번호\n",
        "print(c(pkm$이름[208],pkm$번호[208]))  #2 성도\n",
        "print(c(pkm$이름[318],pkm$번호[318])) #3 호연\n",
        "print(c(pkm$이름[482],pkm$번호[482])) #4 신오\n",
        "print(c(pkm$이름[601],pkm$번호[601])) #5 하나, 예외적으로 배포 포켓몬 비크티니는 하나도감 000번\n",
        "print(c(pkm$이름[777],pkm$번호[777])) #6 칼로스 (XY)\n",
        "print(c(pkm$이름[858],pkm$번호[858])) #7 알로라 (썬문)\n",
        "print(c(pkm$이름[950],pkm$번호[950])) #8 가라르 (소드실드)"
      ],
      "metadata": {
        "colab": {
          "base_uri": "https://localhost:8080/",
          "height": 0
        },
        "id": "LUP7JbNVDxKy",
        "outputId": "7a6f3de6-5c04-4ad1-8425-c07bfcecfd86"
      },
      "execution_count": 56,
      "outputs": [
        {
          "output_type": "stream",
          "name": "stdout",
          "text": [
            "[1] \"이상해씨\" \"001\"     \n",
            "[1] \"치코리타\" \"152\"     \n",
            "[1] \"나무지기\" \"252\"     \n",
            "[1] \"모부기\" \"387\"   \n",
            "[1] \"비크티니\" \"494\"     \n",
            "[1] \"도치마론\" \"650\"     \n",
            "[1] \"나몰빼미\" \"722\"     \n",
            "[1] \"흥나숭\" \"810\"   \n"
          ]
        }
      ]
    },
    {
      "cell_type": "code",
      "source": [
        "length(pkm$이름)"
      ],
      "metadata": {
        "colab": {
          "base_uri": "https://localhost:8080/",
          "height": 34
        },
        "id": "Hi-1cxjvIilf",
        "outputId": "7c29b00f-0c9d-4eb9-b88d-0666f6c70c20"
      },
      "execution_count": 57,
      "outputs": [
        {
          "output_type": "display_data",
          "data": {
            "text/html": [
              "1045"
            ],
            "text/markdown": "1045",
            "text/latex": "1045",
            "text/plain": [
              "[1] 1045"
            ]
          },
          "metadata": {}
        }
      ]
    },
    {
      "cell_type": "code",
      "source": [
        "세대=c(rep(\"1\",207),rep(\"2\",110),rep(\"3\",482-318),rep(\"4\",601-482),rep(\"5\",777-601),rep(\"6\",858-777),rep(\"7\",950-858),rep(\"8\",1045-950+1)) #마지막 번호는 동일지역이므로 +1\n",
        "pkm$세대=세대 #길이가 다르면 error\n",
        "head(pkm)"
      ],
      "metadata": {
        "id": "8w3nTG03HODM",
        "colab": {
          "base_uri": "https://localhost:8080/",
          "height": 445
        },
        "outputId": "53ac1431-25cc-4dec-f906-ee33da4fe4f5"
      },
      "execution_count": 59,
      "outputs": [
        {
          "output_type": "display_data",
          "data": {
            "text/html": [
              "<table class=\"dataframe\">\n",
              "<caption>A data.frame: 6 × 29</caption>\n",
              "<thead>\n",
              "\t<tr><th></th><th scope=col>X</th><th scope=col>번호</th><th scope=col>이름</th><th scope=col>체력</th><th scope=col>공격</th><th scope=col>방어</th><th scope=col>특공</th><th scope=col>특방</th><th scope=col>스피드</th><th scope=col>기타</th><th scope=col>⋯</th><th scope=col>벌레</th><th scope=col>불꽃</th><th scope=col>비행</th><th scope=col>악</th><th scope=col>얼음</th><th scope=col>에스퍼</th><th scope=col>전기</th><th scope=col>페어리</th><th scope=col>풀</th><th scope=col>세대</th></tr>\n",
              "\t<tr><th></th><th scope=col>&lt;int&gt;</th><th scope=col>&lt;chr&gt;</th><th scope=col>&lt;chr&gt;</th><th scope=col>&lt;int&gt;</th><th scope=col>&lt;int&gt;</th><th scope=col>&lt;int&gt;</th><th scope=col>&lt;int&gt;</th><th scope=col>&lt;int&gt;</th><th scope=col>&lt;int&gt;</th><th scope=col>&lt;chr&gt;</th><th scope=col>⋯</th><th scope=col>&lt;dbl&gt;</th><th scope=col>&lt;dbl&gt;</th><th scope=col>&lt;dbl&gt;</th><th scope=col>&lt;dbl&gt;</th><th scope=col>&lt;dbl&gt;</th><th scope=col>&lt;dbl&gt;</th><th scope=col>&lt;dbl&gt;</th><th scope=col>&lt;dbl&gt;</th><th scope=col>&lt;dbl&gt;</th><th scope=col>&lt;chr&gt;</th></tr>\n",
              "</thead>\n",
              "<tbody>\n",
              "\t<tr><th scope=row>1</th><td>0</td><td>001 </td><td>이상해씨    </td><td>45</td><td> 49</td><td> 49</td><td> 65</td><td> 65</td><td>45</td><td></td><td>⋯</td><td>0</td><td>0</td><td>0</td><td>0</td><td>0</td><td>0</td><td>0</td><td>0</td><td>0</td><td>1</td></tr>\n",
              "\t<tr><th scope=row>2</th><td>1</td><td>002 </td><td>이상해풀    </td><td>60</td><td> 62</td><td> 63</td><td> 80</td><td> 80</td><td>60</td><td></td><td>⋯</td><td>0</td><td>0</td><td>0</td><td>0</td><td>0</td><td>0</td><td>0</td><td>0</td><td>0</td><td>1</td></tr>\n",
              "\t<tr><th scope=row>3</th><td>2</td><td>003 </td><td>이상해꽃    </td><td>80</td><td> 82</td><td> 83</td><td>100</td><td>100</td><td>80</td><td></td><td>⋯</td><td>0</td><td>0</td><td>0</td><td>0</td><td>0</td><td>0</td><td>0</td><td>0</td><td>1</td><td>1</td></tr>\n",
              "\t<tr><th scope=row>4</th><td>3</td><td>003m</td><td>메가이상해꽃</td><td>80</td><td>100</td><td>123</td><td>122</td><td>120</td><td>80</td><td></td><td>⋯</td><td>0</td><td>0</td><td>0</td><td>0</td><td>0</td><td>0</td><td>0</td><td>0</td><td>0</td><td>1</td></tr>\n",
              "\t<tr><th scope=row>5</th><td>4</td><td>004 </td><td>파이리      </td><td>39</td><td> 52</td><td> 43</td><td> 60</td><td> 50</td><td>65</td><td></td><td>⋯</td><td>0</td><td>0</td><td>0</td><td>0</td><td>0</td><td>0</td><td>0</td><td>0</td><td>0</td><td>1</td></tr>\n",
              "\t<tr><th scope=row>6</th><td>5</td><td>005 </td><td>리자드      </td><td>58</td><td> 64</td><td> 58</td><td> 80</td><td> 65</td><td>80</td><td></td><td>⋯</td><td>0</td><td>0</td><td>0</td><td>0</td><td>0</td><td>0</td><td>0</td><td>0</td><td>0</td><td>1</td></tr>\n",
              "</tbody>\n",
              "</table>\n"
            ],
            "text/markdown": "\nA data.frame: 6 × 29\n\n| <!--/--> | X &lt;int&gt; | 번호 &lt;chr&gt; | 이름 &lt;chr&gt; | 체력 &lt;int&gt; | 공격 &lt;int&gt; | 방어 &lt;int&gt; | 특공 &lt;int&gt; | 특방 &lt;int&gt; | 스피드 &lt;int&gt; | 기타 &lt;chr&gt; | ⋯ ⋯ | 벌레 &lt;dbl&gt; | 불꽃 &lt;dbl&gt; | 비행 &lt;dbl&gt; | 악 &lt;dbl&gt; | 얼음 &lt;dbl&gt; | 에스퍼 &lt;dbl&gt; | 전기 &lt;dbl&gt; | 페어리 &lt;dbl&gt; | 풀 &lt;dbl&gt; | 세대 &lt;chr&gt; |\n|---|---|---|---|---|---|---|---|---|---|---|---|---|---|---|---|---|---|---|---|---|---|\n| 1 | 0 | 001  | 이상해씨     | 45 |  49 |  49 |  65 |  65 | 45 | <!----> | ⋯ | 0 | 0 | 0 | 0 | 0 | 0 | 0 | 0 | 0 | 1 |\n| 2 | 1 | 002  | 이상해풀     | 60 |  62 |  63 |  80 |  80 | 60 | <!----> | ⋯ | 0 | 0 | 0 | 0 | 0 | 0 | 0 | 0 | 0 | 1 |\n| 3 | 2 | 003  | 이상해꽃     | 80 |  82 |  83 | 100 | 100 | 80 | <!----> | ⋯ | 0 | 0 | 0 | 0 | 0 | 0 | 0 | 0 | 1 | 1 |\n| 4 | 3 | 003m | 메가이상해꽃 | 80 | 100 | 123 | 122 | 120 | 80 | <!----> | ⋯ | 0 | 0 | 0 | 0 | 0 | 0 | 0 | 0 | 0 | 1 |\n| 5 | 4 | 004  | 파이리       | 39 |  52 |  43 |  60 |  50 | 65 | <!----> | ⋯ | 0 | 0 | 0 | 0 | 0 | 0 | 0 | 0 | 0 | 1 |\n| 6 | 5 | 005  | 리자드       | 58 |  64 |  58 |  80 |  65 | 80 | <!----> | ⋯ | 0 | 0 | 0 | 0 | 0 | 0 | 0 | 0 | 0 | 1 |\n\n",
            "text/latex": "A data.frame: 6 × 29\n\\begin{tabular}{r|lllllllllllllllllllll}\n  & X & 번호 & 이름 & 체력 & 공격 & 방어 & 특공 & 특방 & 스피드 & 기타 & ⋯ & 벌레 & 불꽃 & 비행 & 악 & 얼음 & 에스퍼 & 전기 & 페어리 & 풀 & 세대\\\\\n  & <int> & <chr> & <chr> & <int> & <int> & <int> & <int> & <int> & <int> & <chr> & ⋯ & <dbl> & <dbl> & <dbl> & <dbl> & <dbl> & <dbl> & <dbl> & <dbl> & <dbl> & <chr>\\\\\n\\hline\n\t1 & 0 & 001  & 이상해씨     & 45 &  49 &  49 &  65 &  65 & 45 &  & ⋯ & 0 & 0 & 0 & 0 & 0 & 0 & 0 & 0 & 0 & 1\\\\\n\t2 & 1 & 002  & 이상해풀     & 60 &  62 &  63 &  80 &  80 & 60 &  & ⋯ & 0 & 0 & 0 & 0 & 0 & 0 & 0 & 0 & 0 & 1\\\\\n\t3 & 2 & 003  & 이상해꽃     & 80 &  82 &  83 & 100 & 100 & 80 &  & ⋯ & 0 & 0 & 0 & 0 & 0 & 0 & 0 & 0 & 1 & 1\\\\\n\t4 & 3 & 003m & 메가이상해꽃 & 80 & 100 & 123 & 122 & 120 & 80 &  & ⋯ & 0 & 0 & 0 & 0 & 0 & 0 & 0 & 0 & 0 & 1\\\\\n\t5 & 4 & 004  & 파이리       & 39 &  52 &  43 &  60 &  50 & 65 &  & ⋯ & 0 & 0 & 0 & 0 & 0 & 0 & 0 & 0 & 0 & 1\\\\\n\t6 & 5 & 005  & 리자드       & 58 &  64 &  58 &  80 &  65 & 80 &  & ⋯ & 0 & 0 & 0 & 0 & 0 & 0 & 0 & 0 & 0 & 1\\\\\n\\end{tabular}\n",
            "text/plain": [
              "  X 번호 이름         체력 공격 방어 특공 특방 스피드 기타 ⋯ 벌레 불꽃 비행 악\n",
              "1 0 001  이상해씨     45    49   49   65   65  45          ⋯ 0    0    0    0 \n",
              "2 1 002  이상해풀     60    62   63   80   80  60          ⋯ 0    0    0    0 \n",
              "3 2 003  이상해꽃     80    82   83  100  100  80          ⋯ 0    0    0    0 \n",
              "4 3 003m 메가이상해꽃 80   100  123  122  120  80          ⋯ 0    0    0    0 \n",
              "5 4 004  파이리       39    52   43   60   50  65          ⋯ 0    0    0    0 \n",
              "6 5 005  리자드       58    64   58   80   65  80          ⋯ 0    0    0    0 \n",
              "  얼음 에스퍼 전기 페어리 풀 세대\n",
              "1 0    0      0    0      0  1   \n",
              "2 0    0      0    0      0  1   \n",
              "3 0    0      0    0      1  1   \n",
              "4 0    0      0    0      0  1   \n",
              "5 0    0      0    0      0  1   \n",
              "6 0    0      0    0      0  1   "
            ]
          },
          "metadata": {}
        }
      ]
    },
    {
      "cell_type": "markdown",
      "source": [
        "\n",
        "\n",
        "---\n",
        "\n"
      ],
      "metadata": {
        "id": "buA5tR2ZKpF7"
      }
    },
    {
      "cell_type": "markdown",
      "source": [
        "chapter 1 (Getting started with R and RStudio) : 생략"
      ],
      "metadata": {
        "id": "3U0pjjR0KivO"
      }
    },
    {
      "cell_type": "markdown",
      "source": [
        "#Ch2: R Basic"
      ],
      "metadata": {
        "id": "pnNKWY1eJ90Y"
      }
    },
    {
      "cell_type": "code",
      "source": [
        "#자주 잊는 기초\n",
        "\n",
        "print(Inf+1) #Inf는 무한\n",
        "print(seq(1,10,2)) #seq는 수열 생성\n",
        "print(exp(log(10, base=2)))"
      ],
      "metadata": {
        "colab": {
          "base_uri": "https://localhost:8080/",
          "height": 0
        },
        "id": "s7qTvrWaJ9Gs",
        "outputId": "cf75af22-1a47-4081-c9ff-9d26677bc12c"
      },
      "execution_count": 15,
      "outputs": [
        {
          "output_type": "stream",
          "name": "stdout",
          "text": [
            "[1] Inf\n",
            "[1] 1 3 5 7 9\n",
            "[1] 27.71373\n"
          ]
        }
      ]
    },
    {
      "cell_type": "markdown",
      "source": [
        "자료형태"
      ],
      "metadata": {
        "id": "duTkUHO8Jrf_"
      }
    },
    {
      "cell_type": "code",
      "source": [
        "#matrix\n",
        "\n",
        "mat=matrix(1:12,4,3,byrow=T) #행,열 #byrow=T 없으면 1열이 1,2,3,4\n",
        "mat[,1] #1열"
      ],
      "metadata": {
        "colab": {
          "base_uri": "https://localhost:8080/",
          "height": 34
        },
        "id": "eBJiRu5LJldI",
        "outputId": "288f95e2-31a1-4924-c2f1-febb957dbd16"
      },
      "execution_count": 35,
      "outputs": [
        {
          "output_type": "display_data",
          "data": {
            "text/html": [
              "<style>\n",
              ".list-inline {list-style: none; margin:0; padding: 0}\n",
              ".list-inline>li {display: inline-block}\n",
              ".list-inline>li:not(:last-child)::after {content: \"\\00b7\"; padding: 0 .5ex}\n",
              "</style>\n",
              "<ol class=list-inline><li>1</li><li>4</li><li>7</li><li>10</li></ol>\n"
            ],
            "text/markdown": "1. 1\n2. 4\n3. 7\n4. 10\n\n\n",
            "text/latex": "\\begin{enumerate*}\n\\item 1\n\\item 4\n\\item 7\n\\item 10\n\\end{enumerate*}\n",
            "text/plain": [
              "[1]  1  4  7 10"
            ]
          },
          "metadata": {}
        }
      ]
    },
    {
      "cell_type": "code",
      "source": [
        "#list\n",
        "\n",
        "이상해씨=list(name = \"이상해씨\",\n",
        "            id = 1,\n",
        "             value = c(45, 49, 65, 65)) #이름 호출 없이하면 자동 정수 인덱스 부여\n",
        "\n",
        "print(이상해씨)"
      ],
      "metadata": {
        "id": "YEzJRG9hNaC7",
        "colab": {
          "base_uri": "https://localhost:8080/",
          "height": 0
        },
        "outputId": "226bb87f-6942-4557-bc66-b1da537330b3"
      },
      "execution_count": 40,
      "outputs": [
        {
          "output_type": "stream",
          "name": "stdout",
          "text": [
            "$name\n",
            "[1] \"이상해씨\"\n",
            "\n",
            "$id\n",
            "[1] 1\n",
            "\n",
            "$value\n",
            "[1] 45 49 65 65\n",
            "\n"
          ]
        }
      ]
    },
    {
      "cell_type": "code",
      "source": [
        "#vector\n",
        "\n",
        "a=c(1,2,3)\n",
        "v=c('1'=2,'3'=4) #이름 할당\n",
        "print(names(v)) #또는 d.f 컬럼명 알려줌\n",
        "cat(\"\\n\")       #cat은 여러 줄의 출력문에 유용\n",
        "\n",
        "a=as.character(a)\n",
        "print(a)\n",
        "a=as.numeric(a)\n",
        "print(a)"
      ],
      "metadata": {
        "colab": {
          "base_uri": "https://localhost:8080/",
          "height": 0
        },
        "id": "Jgg7fosdKmO7",
        "outputId": "85ce81d4-f20d-46f9-9bcc-3ab98e19ab6f"
      },
      "execution_count": 63,
      "outputs": [
        {
          "output_type": "stream",
          "name": "stdout",
          "text": [
            "[1] \"1\" \"3\"\n",
            "\n",
            "[1] \"1\" \"2\" \"3\"\n",
            "[1] 1 2 3\n"
          ]
        }
      ]
    },
    {
      "cell_type": "code",
      "source": [
        "이상해씨[[\"value\"]] #list내 요소 접근시 double square brackets 사용"
      ],
      "metadata": {
        "colab": {
          "base_uri": "https://localhost:8080/",
          "height": 34
        },
        "id": "5jsJS6dqNtCF",
        "outputId": "73871cf5-cef2-414e-ae9a-9e3f8a711da7"
      },
      "execution_count": 23,
      "outputs": [
        {
          "output_type": "display_data",
          "data": {
            "text/html": [
              "<style>\n",
              ".list-inline {list-style: none; margin:0; padding: 0}\n",
              ".list-inline>li {display: inline-block}\n",
              ".list-inline>li:not(:last-child)::after {content: \"\\00b7\"; padding: 0 .5ex}\n",
              "</style>\n",
              "<ol class=list-inline><li>45</li><li>49</li><li>65</li><li>65</li></ol>\n"
            ],
            "text/markdown": "1. 45\n2. 49\n3. 65\n4. 65\n\n\n",
            "text/latex": "\\begin{enumerate*}\n\\item 45\n\\item 49\n\\item 65\n\\item 65\n\\end{enumerate*}\n",
            "text/plain": [
              "[1] 45 49 65 65"
            ]
          },
          "metadata": {}
        }
      ]
    },
    {
      "cell_type": "markdown",
      "source": [
        "데이터프레임 (d.f) 탐색"
      ],
      "metadata": {
        "id": "EIM1BTTIL4SX"
      }
    },
    {
      "cell_type": "code",
      "source": [
        "#d.f 선언\n",
        "\n",
        "temp <- c(35, 88, 42)\n",
        "city <- c(\"Beijing\", \"Lagos\", \"Paris\")\n",
        "city_temps <- data.frame(name = city, temperature = temp)\n",
        "\n",
        "city_temps"
      ],
      "metadata": {
        "colab": {
          "base_uri": "https://localhost:8080/",
          "height": 192
        },
        "id": "DD3RfxBQOfye",
        "outputId": "08ef580a-0036-46ef-b3e8-936181f72f8a"
      },
      "execution_count": 79,
      "outputs": [
        {
          "output_type": "display_data",
          "data": {
            "text/html": [
              "<table class=\"dataframe\">\n",
              "<caption>A data.frame: 3 × 2</caption>\n",
              "<thead>\n",
              "\t<tr><th scope=col>name</th><th scope=col>temperature</th></tr>\n",
              "\t<tr><th scope=col>&lt;chr&gt;</th><th scope=col>&lt;dbl&gt;</th></tr>\n",
              "</thead>\n",
              "<tbody>\n",
              "\t<tr><td>Beijing</td><td>35</td></tr>\n",
              "\t<tr><td>Lagos  </td><td>88</td></tr>\n",
              "\t<tr><td>Paris  </td><td>42</td></tr>\n",
              "</tbody>\n",
              "</table>\n"
            ],
            "text/markdown": "\nA data.frame: 3 × 2\n\n| name &lt;chr&gt; | temperature &lt;dbl&gt; |\n|---|---|\n| Beijing | 35 |\n| Lagos   | 88 |\n| Paris   | 42 |\n\n",
            "text/latex": "A data.frame: 3 × 2\n\\begin{tabular}{ll}\n name & temperature\\\\\n <chr> & <dbl>\\\\\n\\hline\n\t Beijing & 35\\\\\n\t Lagos   & 88\\\\\n\t Paris   & 42\\\\\n\\end{tabular}\n",
            "text/plain": [
              "  name    temperature\n",
              "1 Beijing 35         \n",
              "2 Lagos   88         \n",
              "3 Paris   42         "
            ]
          },
          "metadata": {}
        }
      ]
    },
    {
      "cell_type": "code",
      "source": [
        "str(pkm) #d.f의 structure"
      ],
      "metadata": {
        "colab": {
          "base_uri": "https://localhost:8080/",
          "height": 0
        },
        "id": "G4tTWVOxLhVa",
        "outputId": "b83730c2-2a8c-47da-c6b6-ba4aff1fc9b7"
      },
      "execution_count": 16,
      "outputs": [
        {
          "output_type": "stream",
          "name": "stdout",
          "text": [
            "'data.frame':\t1045 obs. of  29 variables:\n",
            " $ X     : int  0 1 2 3 4 5 6 7 8 9 ...\n",
            " $ 번호  : chr  \"001\" \"002\" \"003\" \"003m\" ...\n",
            " $ 이름  : chr  \"이상해씨\" \"이상해풀\" \"이상해꽃\" \"메가이상해꽃\" ...\n",
            " $ 체력  : int  45 60 80 80 39 58 78 78 78 44 ...\n",
            " $ 공격  : int  49 62 82 100 52 64 84 130 104 48 ...\n",
            " $ 방어  : int  49 63 83 123 43 58 78 111 78 65 ...\n",
            " $ 특공  : int  65 80 100 122 60 80 109 130 159 50 ...\n",
            " $ 특방  : int  65 80 100 120 50 65 85 85 115 64 ...\n",
            " $ 스피드: int  45 60 80 80 65 80 100 100 100 43 ...\n",
            " $ 기타  : chr  \"\" \"\" \"\" \"\" ...\n",
            " $ 강철  : num  0 0 0 0 0 0 0 0 0 0 ...\n",
            " $ 격투  : num  0 0 0 0 0 0 0 0 0 0 ...\n",
            " $ 고스트: num  0 0 0 0 0 0 0 0 0 0 ...\n",
            " $ 노말  : num  0 0 0 0 0 0 0 0 0 0 ...\n",
            " $ 독    : num  0 0 1 0 0 0 0 0 0 0 ...\n",
            " $ 드래곤: num  0 0 0 0 0 0 0 0 0 0 ...\n",
            " $ 땅    : num  0 0 0 0 0 0 0 0 0 0 ...\n",
            " $ 물    : num  0 0 0 0 0 0 0 0 0 0 ...\n",
            " $ 바위  : num  0 0 0 0 0 0 0 0 0 0 ...\n",
            " $ 벌레  : num  0 0 0 0 0 0 0 0 0 0 ...\n",
            " $ 불꽃  : num  0 0 0 0 0 0 1 0 0 0 ...\n",
            " $ 비행  : num  0 0 0 0 0 0 1 0 0 0 ...\n",
            " $ 악    : num  0 0 0 0 0 0 0 0 0 0 ...\n",
            " $ 얼음  : num  0 0 0 0 0 0 0 0 0 0 ...\n",
            " $ 에스퍼: num  0 0 0 0 0 0 0 0 0 0 ...\n",
            " $ 전기  : num  0 0 0 0 0 0 0 0 0 0 ...\n",
            " $ 페어리: num  0 0 0 0 0 0 0 0 0 0 ...\n",
            " $ 풀    : num  0 0 1 0 0 0 0 0 0 0 ...\n",
            " $ 세대  : chr  \"1\" \"1\" \"1\" \"1\" ...\n"
          ]
        }
      ]
    },
    {
      "cell_type": "code",
      "source": [
        "names(pkm) #py: columns()"
      ],
      "metadata": {
        "colab": {
          "base_uri": "https://localhost:8080/",
          "height": 52
        },
        "id": "5ZE1uZx8L0FK",
        "outputId": "39d8c81d-9e55-4342-de8f-8885943d0402"
      },
      "execution_count": 17,
      "outputs": [
        {
          "output_type": "display_data",
          "data": {
            "text/html": [
              "<style>\n",
              ".list-inline {list-style: none; margin:0; padding: 0}\n",
              ".list-inline>li {display: inline-block}\n",
              ".list-inline>li:not(:last-child)::after {content: \"\\00b7\"; padding: 0 .5ex}\n",
              "</style>\n",
              "<ol class=list-inline><li>'X'</li><li>'번호'</li><li>'이름'</li><li>'체력'</li><li>'공격'</li><li>'방어'</li><li>'특공'</li><li>'특방'</li><li>'스피드'</li><li>'기타'</li><li>'강철'</li><li>'격투'</li><li>'고스트'</li><li>'노말'</li><li>'독'</li><li>'드래곤'</li><li>'땅'</li><li>'물'</li><li>'바위'</li><li>'벌레'</li><li>'불꽃'</li><li>'비행'</li><li>'악'</li><li>'얼음'</li><li>'에스퍼'</li><li>'전기'</li><li>'페어리'</li><li>'풀'</li><li>'세대'</li></ol>\n"
            ],
            "text/markdown": "1. 'X'\n2. '번호'\n3. '이름'\n4. '체력'\n5. '공격'\n6. '방어'\n7. '특공'\n8. '특방'\n9. '스피드'\n10. '기타'\n11. '강철'\n12. '격투'\n13. '고스트'\n14. '노말'\n15. '독'\n16. '드래곤'\n17. '땅'\n18. '물'\n19. '바위'\n20. '벌레'\n21. '불꽃'\n22. '비행'\n23. '악'\n24. '얼음'\n25. '에스퍼'\n26. '전기'\n27. '페어리'\n28. '풀'\n29. '세대'\n\n\n",
            "text/latex": "\\begin{enumerate*}\n\\item 'X'\n\\item '번호'\n\\item '이름'\n\\item '체력'\n\\item '공격'\n\\item '방어'\n\\item '특공'\n\\item '특방'\n\\item '스피드'\n\\item '기타'\n\\item '강철'\n\\item '격투'\n\\item '고스트'\n\\item '노말'\n\\item '독'\n\\item '드래곤'\n\\item '땅'\n\\item '물'\n\\item '바위'\n\\item '벌레'\n\\item '불꽃'\n\\item '비행'\n\\item '악'\n\\item '얼음'\n\\item '에스퍼'\n\\item '전기'\n\\item '페어리'\n\\item '풀'\n\\item '세대'\n\\end{enumerate*}\n",
            "text/plain": [
              " [1] \"X\"      \"번호\"   \"이름\"   \"체력\"   \"공격\"   \"방어\"   \"특공\"   \"특방\"  \n",
              " [9] \"스피드\" \"기타\"   \"강철\"   \"격투\"   \"고스트\" \"노말\"   \"독\"     \"드래곤\"\n",
              "[17] \"땅\"     \"물\"     \"바위\"   \"벌레\"   \"불꽃\"   \"비행\"   \"악\"     \"얼음\"  \n",
              "[25] \"에스퍼\" \"전기\"   \"페어리\" \"풀\"     \"세대\"  "
            ]
          },
          "metadata": {}
        }
      ]
    },
    {
      "cell_type": "markdown",
      "source": [
        "주요 함수\n",
        "\n",
        "levels, reorder, which.max, rank, with"
      ],
      "metadata": {
        "id": "FDPaJ6h3M8Ou"
      }
    },
    {
      "cell_type": "code",
      "source": [
        "levels(pkm$세대) #factor가 아닌 character이므로 NULL"
      ],
      "metadata": {
        "colab": {
          "base_uri": "https://localhost:8080/",
          "height": 35
        },
        "id": "cbwo7GLcEhiF",
        "outputId": "41187608-717a-499e-ea8d-d0e0ffbc75da"
      },
      "execution_count": 18,
      "outputs": [
        {
          "output_type": "display_data",
          "data": {
            "text/plain": [
              "NULL"
            ]
          },
          "metadata": {}
        }
      ]
    },
    {
      "cell_type": "code",
      "source": [
        "levels(factor(세대)) #alphabetical order default."
      ],
      "metadata": {
        "colab": {
          "base_uri": "https://localhost:8080/",
          "height": 34
        },
        "id": "n79d74_HL8KQ",
        "outputId": "9dd7d9a2-3fab-44c0-cc54-397051055e08"
      },
      "execution_count": 19,
      "outputs": [
        {
          "output_type": "display_data",
          "data": {
            "text/html": [
              "<style>\n",
              ".list-inline {list-style: none; margin:0; padding: 0}\n",
              ".list-inline>li {display: inline-block}\n",
              ".list-inline>li:not(:last-child)::after {content: \"\\00b7\"; padding: 0 .5ex}\n",
              "</style>\n",
              "<ol class=list-inline><li>'1'</li><li>'2'</li><li>'3'</li><li>'4'</li><li>'5'</li><li>'6'</li><li>'7'</li><li>'8'</li></ol>\n"
            ],
            "text/markdown": "1. '1'\n2. '2'\n3. '3'\n4. '4'\n5. '5'\n6. '6'\n7. '7'\n8. '8'\n\n\n",
            "text/latex": "\\begin{enumerate*}\n\\item '1'\n\\item '2'\n\\item '3'\n\\item '4'\n\\item '5'\n\\item '6'\n\\item '7'\n\\item '8'\n\\end{enumerate*}\n",
            "text/plain": [
              "[1] \"1\" \"2\" \"3\" \"4\" \"5\" \"6\" \"7\" \"8\""
            ]
          },
          "metadata": {}
        }
      ]
    },
    {
      "cell_type": "code",
      "source": [
        "levels(reorder(pkm$세대,pkm$공격,FUN=sum)) #\"세대의 factor 순서\"를 '세대별 공격 sum' 기준으로 정렬"
      ],
      "metadata": {
        "colab": {
          "base_uri": "https://localhost:8080/",
          "height": 34
        },
        "id": "FdcNvIoDMfZp",
        "outputId": "82cd81e5-be05-4841-f1ae-75ad9d36b4da"
      },
      "execution_count": 20,
      "outputs": [
        {
          "output_type": "display_data",
          "data": {
            "text/html": [
              "<style>\n",
              ".list-inline {list-style: none; margin:0; padding: 0}\n",
              ".list-inline>li {display: inline-block}\n",
              ".list-inline>li:not(:last-child)::after {content: \"\\00b7\"; padding: 0 .5ex}\n",
              "</style>\n",
              "<ol class=list-inline><li>'6'</li><li>'2'</li><li>'8'</li><li>'7'</li><li>'4'</li><li>'3'</li><li>'5'</li><li>'1'</li></ol>\n"
            ],
            "text/markdown": "1. '6'\n2. '2'\n3. '8'\n4. '7'\n5. '4'\n6. '3'\n7. '5'\n8. '1'\n\n\n",
            "text/latex": "\\begin{enumerate*}\n\\item '6'\n\\item '2'\n\\item '8'\n\\item '7'\n\\item '4'\n\\item '3'\n\\item '5'\n\\item '1'\n\\end{enumerate*}\n",
            "text/plain": [
              "[1] \"6\" \"2\" \"8\" \"7\" \"4\" \"3\" \"5\" \"1\""
            ]
          },
          "metadata": {}
        }
      ]
    },
    {
      "cell_type": "markdown",
      "source": [
        "이후 글자가 깨질 우려가 있어 열 이름을 변경합니다"
      ],
      "metadata": {
        "id": "ufgzCG20PF9C"
      }
    },
    {
      "cell_type": "code",
      "source": [
        "colnames(pkm)=c('n','id','name','H','P','D','TP','TD','S','tmi','steel','fighting','ghost','normal','poison','dragon','ground','water','rock','bug','fire','flying','dark','ice','psychic','electric','fairy','grass','gen')"
      ],
      "metadata": {
        "id": "LrlHXLCpPWCx"
      },
      "execution_count": 87,
      "outputs": []
    },
    {
      "cell_type": "code",
      "source": [
        "#which.max\n",
        "\n",
        "i=which.max(pkm$P)\n",
        "print(pkm$name[i]) #공격이 가장 높은 포켓몬\n",
        "cat(pkm$P[i])\n",
        "\n",
        "#which.min\n",
        "\n",
        "i=which.min(pkm$P)\n",
        "print(pkm$name[i]) #공격이 가장 낮은 포켓몬\n",
        "cat(pkm$P[i])"
      ],
      "metadata": {
        "colab": {
          "base_uri": "https://localhost:8080/",
          "height": 0
        },
        "id": "enu6DwDZNiDF",
        "outputId": "9aadb378-cec9-416d-814f-80cc0a2b7d54"
      },
      "execution_count": 102,
      "outputs": [
        {
          "output_type": "stream",
          "name": "stdout",
          "text": [
            "[1] \"메가뮤츠X\"\n",
            "190[1] \"럭키\"\n",
            "5"
          ]
        }
      ]
    },
    {
      "cell_type": "code",
      "source": [
        "#rank #작은 것부터 1등\n",
        "\n",
        "print(pkm$name[c(3,7,12)])\n",
        "print(rank(pkm$P[c(3,7,12)])) #공격력은 이상해꽃<거북왕<리자몽"
      ],
      "metadata": {
        "colab": {
          "base_uri": "https://localhost:8080/",
          "height": 0
        },
        "id": "bbv2aXshN6Uq",
        "outputId": "72e1dc48-4020-4179-f140-6a885a1649b1"
      },
      "execution_count": 104,
      "outputs": [
        {
          "output_type": "stream",
          "name": "stdout",
          "text": [
            "[1] \"이상해꽃\" \"리자몽\"   \"거북왕\"  \n",
            "[1] 1 3 2\n"
          ]
        }
      ]
    },
    {
      "cell_type": "code",
      "source": [
        "with(pkm, plot(P,D)) #이후 호출되는 모든 변수가 pkm$~"
      ],
      "metadata": {
        "colab": {
          "base_uri": "https://localhost:8080/",
          "height": 437
        },
        "id": "O4_PeZDXOrAa",
        "outputId": "c7e84030-c194-4491-b080-4559e5b633dc"
      },
      "execution_count": 103,
      "outputs": [
        {
          "output_type": "display_data",
          "data": {
            "text/plain": [
              "plot without title"
            ],
            "image/png": "[encoded data removed]"
          },
          "metadata": {
            "image/png": {
              "width": 420,
              "height": 420
            }
          }
        }
      ]
    },
    {
      "cell_type": "code",
      "source": [
        "hist(pkm$P) #right skewed."
      ],
      "metadata": {
        "colab": {
          "base_uri": "https://localhost:8080/",
          "height": 437
        },
        "id": "6vcnzfsDO3gP",
        "outputId": "bebff9e4-d45d-4e81-9c8a-720413556809"
      },
      "execution_count": 89,
      "outputs": [
        {
          "output_type": "display_data",
          "data": {
            "text/plain": [
              "Plot with title “Histogram of pkm$P”"
            ],
            "image/png": "[encoded data removed]"
          },
          "metadata": {
            "image/png": {
              "width": 420,
              "height": 420
            }
          }
        }
      ]
    },
    {
      "cell_type": "markdown",
      "source": [
        "\n",
        "\n",
        "---\n",
        "\n"
      ],
      "metadata": {
        "id": "8HnEl2QxKgFY"
      }
    },
    {
      "cell_type": "markdown",
      "source": [
        "#주요 라이브러리"
      ],
      "metadata": {
        "id": "LUd5I1EUKZ0u"
      }
    },
    {
      "cell_type": "code",
      "source": [
        "#install.packages('tidyverse') #최초 1회만 실행.\n",
        "#dplyr, ggplot2 등 'tidy'한 data에 쓸 수 있는 여러 패키지 포함"
      ],
      "metadata": {
        "colab": {
          "base_uri": "https://localhost:8080/",
          "height": 0
        },
        "id": "TqEj5gzS9ABf",
        "outputId": "31bc936d-4015-4631-9828-8e9b06315ae1"
      },
      "execution_count": 24,
      "outputs": [
        {
          "output_type": "stream",
          "name": "stderr",
          "text": [
            "Installing package into ‘/usr/local/lib/R/site-library’\n",
            "(as ‘lib’ is unspecified)\n",
            "\n"
          ]
        }
      ]
    },
    {
      "cell_type": "code",
      "source": [
        "library(tidyverse)\n",
        "\n",
        "#tidy한 데이터란 각 행이 여러 변수의 값들로 묶인 하나의 관측 대상일 경우. (행 안 요소간 연결성.)\n",
        "#이때 tidyverse 함수를 거치면 결과물은 data.frame이 아닌 tibble로 출력된다\n",
        "\n",
        "class(as_tibble(pkm)) #'tbl_df''tbl''data.frame' 로 뜨는 것이 정상"
      ],
      "metadata": {
        "id": "FWNAQACG9HyP",
        "colab": {
          "base_uri": "https://localhost:8080/",
          "height": 34
        },
        "outputId": "0a4c223e-56e7-4abe-f00f-401fc9e54760"
      },
      "execution_count": 156,
      "outputs": [
        {
          "output_type": "display_data",
          "data": {
            "text/html": [
              "<style>\n",
              ".list-inline {list-style: none; margin:0; padding: 0}\n",
              ".list-inline>li {display: inline-block}\n",
              ".list-inline>li:not(:last-child)::after {content: \"\\00b7\"; padding: 0 .5ex}\n",
              "</style>\n",
              "<ol class=list-inline><li>'tbl_df'</li><li>'tbl'</li><li>'data.frame'</li></ol>\n"
            ],
            "text/markdown": "1. 'tbl_df'\n2. 'tbl'\n3. 'data.frame'\n\n\n",
            "text/latex": "\\begin{enumerate*}\n\\item 'tbl\\_df'\n\\item 'tbl'\n\\item 'data.frame'\n\\end{enumerate*}\n",
            "text/plain": [
              "[1] \"tbl_df\"     \"tbl\"        \"data.frame\""
            ]
          },
          "metadata": {}
        }
      ]
    },
    {
      "cell_type": "markdown",
      "source": [
        "tibble은 data.frame보다 유연하기 때문에 mean, sd 같은 함수도 값처럼 저장할 수 있다."
      ],
      "metadata": {
        "id": "FCBfxO3AZzCG"
      }
    },
    {
      "cell_type": "markdown",
      "source": [
        "#Ch3: Programming basics"
      ],
      "metadata": {
        "id": "GdqWwfKrQpZi"
      }
    },
    {
      "cell_type": "code",
      "source": [
        "#if&else, ifelse\n",
        "\n",
        "a=0\n",
        "\n",
        "if(a!=0){\n",
        "  print(1/a)\n",
        "  } else{         #else가 }와 한 줄에 와야함\n",
        "  print(\"No!\")}\n",
        "\n",
        "\n",
        "ifelse(a > 0, 1/a, NA)"
      ],
      "metadata": {
        "colab": {
          "base_uri": "https://localhost:8080/",
          "height": 53
        },
        "id": "LQM-JmxND3NW",
        "outputId": "237c9fc7-8f63-4b0a-f978-177e7023eaad"
      },
      "execution_count": 105,
      "outputs": [
        {
          "output_type": "stream",
          "name": "stdout",
          "text": [
            "[1] \"No!\"\n"
          ]
        },
        {
          "output_type": "display_data",
          "data": {
            "text/html": [
              "&lt;NA&gt;"
            ],
            "text/markdown": "&lt;NA&gt;",
            "text/latex": "<NA>",
            "text/plain": [
              "[1] NA"
            ]
          },
          "metadata": {}
        }
      ]
    },
    {
      "cell_type": "code",
      "source": [
        "identical(1,\"1\")"
      ],
      "metadata": {
        "colab": {
          "base_uri": "https://localhost:8080/",
          "height": 34
        },
        "id": "0L1oraMlR0tQ",
        "outputId": "a03dcd0b-28a7-4f3b-bed6-a2d4c8bc73ae"
      },
      "execution_count": 106,
      "outputs": [
        {
          "output_type": "display_data",
          "data": {
            "text/html": [
              "FALSE"
            ],
            "text/markdown": "FALSE",
            "text/latex": "FALSE",
            "text/plain": [
              "[1] FALSE"
            ]
          },
          "metadata": {}
        }
      ]
    },
    {
      "cell_type": "code",
      "source": [
        "print(all(c(1,1,1))) #1의 type이 logical이어서 warning\n",
        "\n",
        "print(any(!c(1,1,0)))"
      ],
      "metadata": {
        "colab": {
          "base_uri": "https://localhost:8080/",
          "height": 0
        },
        "id": "5mtvvliER2WI",
        "outputId": "3c629a6e-f5ce-42f7-c897-c85c0a5acc26"
      },
      "execution_count": 112,
      "outputs": [
        {
          "output_type": "stream",
          "name": "stderr",
          "text": [
            "Warning message in all(c(1, 1, 1)):\n",
            "“coercing argument of type 'double' to logical”\n"
          ]
        },
        {
          "output_type": "stream",
          "name": "stdout",
          "text": [
            "[1] TRUE\n",
            "[1] TRUE\n"
          ]
        }
      ]
    },
    {
      "cell_type": "markdown",
      "source": [
        "\n",
        "\n",
        "---\n",
        "\n"
      ],
      "metadata": {
        "id": "fIbytGk_UFoQ"
      }
    },
    {
      "cell_type": "markdown",
      "source": [
        "#Ch4: The tidyverse\n",
        "\n",
        "mutate, filter, select"
      ],
      "metadata": {
        "id": "pSg0H-0pUJj_"
      }
    },
    {
      "cell_type": "code",
      "source": [
        "#select 열 선택, filter 열 관련 조건식으로 행 선택\n",
        "#arrange 매칭되는 각 인덱스에 오도록 행 정렬, mutate 새 변수(열) 생성\n",
        "\n",
        "#공격력이 하위 100등인 포켓몬들\n",
        "low_P=pkm|>\n",
        "  mutate(total=H+P+D+TP+TD+S)|>\n",
        "  select(name, P,TP,S,gen, total)|>\n",
        "  filter(rank(P)<=100)|>\n",
        "  arrange(rank(P))            #내림차순은 arrange(desc(변수))\n",
        "\n",
        "low_P|>head()\n",
        "\n",
        "#pipe: |> 대신 %>%도 가능\n",
        "#muate내 변수 이름은 'total'같은 따옴표 불필요"
      ],
      "metadata": {
        "colab": {
          "base_uri": "https://localhost:8080/",
          "height": 286
        },
        "id": "gNP0LSuyUGza",
        "outputId": "992ac8a0-ef9a-4cc2-a593-57de50ab3532"
      },
      "execution_count": 143,
      "outputs": [
        {
          "output_type": "display_data",
          "data": {
            "text/html": [
              "<table class=\"dataframe\">\n",
              "<caption>A data.frame: 6 × 6</caption>\n",
              "<thead>\n",
              "\t<tr><th></th><th scope=col>name</th><th scope=col>P</th><th scope=col>TP</th><th scope=col>S</th><th scope=col>gen</th><th scope=col>total</th></tr>\n",
              "\t<tr><th></th><th scope=col>&lt;chr&gt;</th><th scope=col>&lt;int&gt;</th><th scope=col>&lt;int&gt;</th><th scope=col>&lt;int&gt;</th><th scope=col>&lt;chr&gt;</th><th scope=col>&lt;int&gt;</th></tr>\n",
              "</thead>\n",
              "<tbody>\n",
              "\t<tr><th scope=row>1</th><td>럭키    </td><td> 5</td><td>35</td><td>50</td><td>1</td><td>450</td></tr>\n",
              "\t<tr><th scope=row>2</th><td>핑복    </td><td> 5</td><td>15</td><td>30</td><td>4</td><td>220</td></tr>\n",
              "\t<tr><th scope=row>3</th><td>잉어킹  </td><td>10</td><td>15</td><td>80</td><td>1</td><td>200</td></tr>\n",
              "\t<tr><th scope=row>4</th><td>단단지  </td><td>10</td><td>10</td><td> 5</td><td>2</td><td>505</td></tr>\n",
              "\t<tr><th scope=row>5</th><td>해피너스</td><td>10</td><td>75</td><td>55</td><td>2</td><td>540</td></tr>\n",
              "\t<tr><th scope=row>6</th><td>빈티나  </td><td>15</td><td>10</td><td>80</td><td>3</td><td>200</td></tr>\n",
              "</tbody>\n",
              "</table>\n"
            ],
            "text/markdown": "\nA data.frame: 6 × 6\n\n| <!--/--> | name &lt;chr&gt; | P &lt;int&gt; | TP &lt;int&gt; | S &lt;int&gt; | gen &lt;chr&gt; | total &lt;int&gt; |\n|---|---|---|---|---|---|---|\n| 1 | 럭키     |  5 | 35 | 50 | 1 | 450 |\n| 2 | 핑복     |  5 | 15 | 30 | 4 | 220 |\n| 3 | 잉어킹   | 10 | 15 | 80 | 1 | 200 |\n| 4 | 단단지   | 10 | 10 |  5 | 2 | 505 |\n| 5 | 해피너스 | 10 | 75 | 55 | 2 | 540 |\n| 6 | 빈티나   | 15 | 10 | 80 | 3 | 200 |\n\n",
            "text/latex": "A data.frame: 6 × 6\n\\begin{tabular}{r|llllll}\n  & name & P & TP & S & gen & total\\\\\n  & <chr> & <int> & <int> & <int> & <chr> & <int>\\\\\n\\hline\n\t1 & 럭키     &  5 & 35 & 50 & 1 & 450\\\\\n\t2 & 핑복     &  5 & 15 & 30 & 4 & 220\\\\\n\t3 & 잉어킹   & 10 & 15 & 80 & 1 & 200\\\\\n\t4 & 단단지   & 10 & 10 &  5 & 2 & 505\\\\\n\t5 & 해피너스 & 10 & 75 & 55 & 2 & 540\\\\\n\t6 & 빈티나   & 15 & 10 & 80 & 3 & 200\\\\\n\\end{tabular}\n",
            "text/plain": [
              "  name     P  TP S  gen total\n",
              "1 럭키      5 35 50 1   450  \n",
              "2 핑복      5 15 30 4   220  \n",
              "3 잉어킹   10 15 80 1   200  \n",
              "4 단단지   10 10  5 2   505  \n",
              "5 해피너스 10 75 55 2   540  \n",
              "6 빈티나   15 10 80 3   200  "
            ]
          },
          "metadata": {}
        }
      ]
    },
    {
      "cell_type": "code",
      "source": [
        "#summarize: 지정 행(들)을 통해 산출되는 단일 값 제시\n",
        "#groub_by와 사용시 특히 유용\n",
        "\n",
        "pkm=pkm|>mutate(total=H+P+D+TP+TD+S)\n",
        "\n",
        "pkm|>group_by(gen)|>summarize(min_total=min(total)) #세대별 '가장 낮은 종족값합'"
      ],
      "metadata": {
        "colab": {
          "base_uri": "https://localhost:8080/",
          "height": 349
        },
        "id": "Z3mKsZDAWa3O",
        "outputId": "abeaba36-697a-4551-9afe-c6773d376067"
      },
      "execution_count": 146,
      "outputs": [
        {
          "output_type": "display_data",
          "data": {
            "text/html": [
              "<table class=\"dataframe\">\n",
              "<caption>A tibble: 8 × 2</caption>\n",
              "<thead>\n",
              "\t<tr><th scope=col>gen</th><th scope=col>min_total</th></tr>\n",
              "\t<tr><th scope=col>&lt;chr&gt;</th><th scope=col>&lt;int&gt;</th></tr>\n",
              "</thead>\n",
              "<tbody>\n",
              "\t<tr><td>1</td><td>195</td></tr>\n",
              "\t<tr><td>2</td><td>180</td></tr>\n",
              "\t<tr><td>3</td><td>190</td></tr>\n",
              "\t<tr><td>4</td><td>194</td></tr>\n",
              "\t<tr><td>5</td><td>255</td></tr>\n",
              "\t<tr><td>6</td><td>200</td></tr>\n",
              "\t<tr><td>7</td><td>175</td></tr>\n",
              "\t<tr><td>8</td><td>180</td></tr>\n",
              "</tbody>\n",
              "</table>\n"
            ],
            "text/markdown": "\nA tibble: 8 × 2\n\n| gen &lt;chr&gt; | min_total &lt;int&gt; |\n|---|---|\n| 1 | 195 |\n| 2 | 180 |\n| 3 | 190 |\n| 4 | 194 |\n| 5 | 255 |\n| 6 | 200 |\n| 7 | 175 |\n| 8 | 180 |\n\n",
            "text/latex": "A tibble: 8 × 2\n\\begin{tabular}{ll}\n gen & min\\_total\\\\\n <chr> & <int>\\\\\n\\hline\n\t 1 & 195\\\\\n\t 2 & 180\\\\\n\t 3 & 190\\\\\n\t 4 & 194\\\\\n\t 5 & 255\\\\\n\t 6 & 200\\\\\n\t 7 & 175\\\\\n\t 8 & 180\\\\\n\\end{tabular}\n",
            "text/plain": [
              "  gen min_total\n",
              "1 1   195      \n",
              "2 2   180      \n",
              "3 3   190      \n",
              "4 4   194      \n",
              "5 5   255      \n",
              "6 6   200      \n",
              "7 7   175      \n",
              "8 8   180      "
            ]
          },
          "metadata": {}
        }
      ]
    },
    {
      "cell_type": "markdown",
      "source": [
        "전체중 종족값이 가장 낮은 5마리는 누굴까요?"
      ],
      "metadata": {
        "id": "F2BvBTnyXeeG"
      }
    },
    {
      "cell_type": "code",
      "source": [
        "pkm|>arrange(rank(total))|>select(id,name,total,gen)|>head(5) #꼴찌를 면하기 위한 도토리 키재기..."
      ],
      "metadata": {
        "colab": {
          "base_uri": "https://localhost:8080/",
          "height": 255
        },
        "id": "bQxkmeqFUH7q",
        "outputId": "42187c82-8912-4389-dd57-db4e50541e53"
      },
      "execution_count": 151,
      "outputs": [
        {
          "output_type": "display_data",
          "data": {
            "text/html": [
              "<table class=\"dataframe\">\n",
              "<caption>A data.frame: 5 × 4</caption>\n",
              "<thead>\n",
              "\t<tr><th></th><th scope=col>id</th><th scope=col>name</th><th scope=col>total</th><th scope=col>gen</th></tr>\n",
              "\t<tr><th></th><th scope=col>&lt;chr&gt;</th><th scope=col>&lt;chr&gt;</th><th scope=col>&lt;int&gt;</th><th scope=col>&lt;chr&gt;</th></tr>\n",
              "</thead>\n",
              "<tbody>\n",
              "\t<tr><th scope=row>1</th><td>746</td><td>약어리    </td><td>175</td><td>7</td></tr>\n",
              "\t<tr><th scope=row>2</th><td>191</td><td>해너츠    </td><td>180</td><td>2</td></tr>\n",
              "\t<tr><th scope=row>3</th><td>824</td><td>두루지벌레</td><td>180</td><td>8</td></tr>\n",
              "\t<tr><th scope=row>4</th><td>872</td><td>누니머기  </td><td>185</td><td>8</td></tr>\n",
              "\t<tr><th scope=row>5</th><td>298</td><td>루리리    </td><td>190</td><td>3</td></tr>\n",
              "</tbody>\n",
              "</table>\n"
            ],
            "text/markdown": "\nA data.frame: 5 × 4\n\n| <!--/--> | id &lt;chr&gt; | name &lt;chr&gt; | total &lt;int&gt; | gen &lt;chr&gt; |\n|---|---|---|---|---|\n| 1 | 746 | 약어리     | 175 | 7 |\n| 2 | 191 | 해너츠     | 180 | 2 |\n| 3 | 824 | 두루지벌레 | 180 | 8 |\n| 4 | 872 | 누니머기   | 185 | 8 |\n| 5 | 298 | 루리리     | 190 | 3 |\n\n",
            "text/latex": "A data.frame: 5 × 4\n\\begin{tabular}{r|llll}\n  & id & name & total & gen\\\\\n  & <chr> & <chr> & <int> & <chr>\\\\\n\\hline\n\t1 & 746 & 약어리     & 175 & 7\\\\\n\t2 & 191 & 해너츠     & 180 & 2\\\\\n\t3 & 824 & 두루지벌레 & 180 & 8\\\\\n\t4 & 872 & 누니머기   & 185 & 8\\\\\n\t5 & 298 & 루리리     & 190 & 3\\\\\n\\end{tabular}\n",
            "text/plain": [
              "  id  name       total gen\n",
              "1 746 약어리     175   7  \n",
              "2 191 해너츠     180   2  \n",
              "3 824 두루지벌레 180   8  \n",
              "4 872 누니머기   185   8  \n",
              "5 298 루리리     190   3  "
            ]
          },
          "metadata": {}
        }
      ]
    },
    {
      "cell_type": "code",
      "source": [
        "#pull을 사용하면 tibble이 아닌 벡터의 형태로 출력, 저장 가능\n",
        "\n",
        "low_P|>head()|>pull(name)"
      ],
      "metadata": {
        "colab": {
          "base_uri": "https://localhost:8080/",
          "height": 34
        },
        "id": "Hgf4F6CtXqD5",
        "outputId": "f5788e8d-1740-4df0-d8c5-072a3d9bc5b5"
      },
      "execution_count": 154,
      "outputs": [
        {
          "output_type": "display_data",
          "data": {
            "text/html": [
              "<style>\n",
              ".list-inline {list-style: none; margin:0; padding: 0}\n",
              ".list-inline>li {display: inline-block}\n",
              ".list-inline>li:not(:last-child)::after {content: \"\\00b7\"; padding: 0 .5ex}\n",
              "</style>\n",
              "<ol class=list-inline><li>'럭키'</li><li>'핑복'</li><li>'잉어킹'</li><li>'단단지'</li><li>'해피너스'</li><li>'빈티나'</li></ol>\n"
            ],
            "text/markdown": "1. '럭키'\n2. '핑복'\n3. '잉어킹'\n4. '단단지'\n5. '해피너스'\n6. '빈티나'\n\n\n",
            "text/latex": "\\begin{enumerate*}\n\\item '럭키'\n\\item '핑복'\n\\item '잉어킹'\n\\item '단단지'\n\\item '해피너스'\n\\item '빈티나'\n\\end{enumerate*}\n",
            "text/plain": [
              "[1] \"럭키\"     \"핑복\"     \"잉어킹\"   \"단단지\"   \"해피너스\" \"빈티나\"  "
            ]
          },
          "metadata": {}
        }
      ]
    },
    {
      "cell_type": "code",
      "source": [
        "#종족값이 600 이상인 드래곤 포켓몬은? (타입은 관심 대상이 최종진화형일 때만 사용 가능)\n",
        "\n",
        "mask=sapply(pkm$total, function(x){ifelse(x>=600,T,F)}) #종족값이 600 이상인 포켓몬이면 T\n",
        "strong_dragon=pkm[mask,]|>filter(dragon==1&tmi=='')|>select(name,total,gen)\n",
        "\n",
        "#드래곤 타입이면서 기본형인 포켓몬의 이름, 종족값합\n",
        "\n",
        "head(strong_dragon)"
      ],
      "metadata": {
        "colab": {
          "base_uri": "https://localhost:8080/",
          "height": 286
        },
        "id": "BJLNkaOwaXfH",
        "outputId": "a8912e9c-66f5-4b82-8c69-1799ed7208af"
      },
      "execution_count": 182,
      "outputs": [
        {
          "output_type": "display_data",
          "data": {
            "text/html": [
              "<table class=\"dataframe\">\n",
              "<caption>A data.frame: 6 × 3</caption>\n",
              "<thead>\n",
              "\t<tr><th></th><th scope=col>name</th><th scope=col>total</th><th scope=col>gen</th></tr>\n",
              "\t<tr><th></th><th scope=col>&lt;chr&gt;</th><th scope=col>&lt;int&gt;</th><th scope=col>&lt;chr&gt;</th></tr>\n",
              "</thead>\n",
              "<tbody>\n",
              "\t<tr><th scope=row>1</th><td>망나뇽    </td><td>600</td><td>1</td></tr>\n",
              "\t<tr><th scope=row>2</th><td>보만다    </td><td>600</td><td>3</td></tr>\n",
              "\t<tr><th scope=row>3</th><td>라티아스  </td><td>600</td><td>3</td></tr>\n",
              "\t<tr><th scope=row>4</th><td>라티오스  </td><td>600</td><td>3</td></tr>\n",
              "\t<tr><th scope=row>5</th><td>레쿠쟈    </td><td>680</td><td>3</td></tr>\n",
              "\t<tr><th scope=row>6</th><td>한카리아스</td><td>600</td><td>4</td></tr>\n",
              "</tbody>\n",
              "</table>\n"
            ],
            "text/markdown": "\nA data.frame: 6 × 3\n\n| <!--/--> | name &lt;chr&gt; | total &lt;int&gt; | gen &lt;chr&gt; |\n|---|---|---|---|\n| 1 | 망나뇽     | 600 | 1 |\n| 2 | 보만다     | 600 | 3 |\n| 3 | 라티아스   | 600 | 3 |\n| 4 | 라티오스   | 600 | 3 |\n| 5 | 레쿠쟈     | 680 | 3 |\n| 6 | 한카리아스 | 600 | 4 |\n\n",
            "text/latex": "A data.frame: 6 × 3\n\\begin{tabular}{r|lll}\n  & name & total & gen\\\\\n  & <chr> & <int> & <chr>\\\\\n\\hline\n\t1 & 망나뇽     & 600 & 1\\\\\n\t2 & 보만다     & 600 & 3\\\\\n\t3 & 라티아스   & 600 & 3\\\\\n\t4 & 라티오스   & 600 & 3\\\\\n\t5 & 레쿠쟈     & 680 & 3\\\\\n\t6 & 한카리아스 & 600 & 4\\\\\n\\end{tabular}\n",
            "text/plain": [
              "  name       total gen\n",
              "1 망나뇽     600   1  \n",
              "2 보만다     600   3  \n",
              "3 라티아스   600   3  \n",
              "4 라티오스   600   3  \n",
              "5 레쿠쟈     680   3  \n",
              "6 한카리아스 600   4  "
            ]
          },
          "metadata": {}
        }
      ]
    },
    {
      "cell_type": "markdown",
      "source": [
        "purrr function\n",
        "\n",
        "sapply: 벡터 출력\n",
        "\n",
        "map: 리스트 출력\n",
        "\n",
        "map_dlb: numeric vector 출력 (character로 변환 등 X)\n",
        "\n",
        "map_df: tibble 출력 (data.frame 아님)"
      ],
      "metadata": {
        "id": "vdhgfwY3cMSl"
      }
    },
    {
      "cell_type": "code",
      "source": [
        "sapply(1:5, function(x){y=1:x;sum(y)}) #sapply(벡터요소(또는 열), 함수)"
      ],
      "metadata": {
        "colab": {
          "base_uri": "https://localhost:8080/",
          "height": 34
        },
        "id": "mCzH45a5aAYJ",
        "outputId": "72ede3d2-5f76-48ee-f5d9-acff82c1a786"
      },
      "execution_count": 158,
      "outputs": [
        {
          "output_type": "display_data",
          "data": {
            "text/html": [
              "<style>\n",
              ".list-inline {list-style: none; margin:0; padding: 0}\n",
              ".list-inline>li {display: inline-block}\n",
              ".list-inline>li:not(:last-child)::after {content: \"\\00b7\"; padding: 0 .5ex}\n",
              "</style>\n",
              "<ol class=list-inline><li>1</li><li>3</li><li>6</li><li>10</li><li>15</li></ol>\n"
            ],
            "text/markdown": "1. 1\n2. 3\n3. 6\n4. 10\n5. 15\n\n\n",
            "text/latex": "\\begin{enumerate*}\n\\item 1\n\\item 3\n\\item 6\n\\item 10\n\\item 15\n\\end{enumerate*}\n",
            "text/plain": [
              "[1]  1  3  6 10 15"
            ]
          },
          "metadata": {}
        }
      ]
    },
    {
      "cell_type": "code",
      "source": [
        "comp=function(n){\n",
        "  x=1:n               #tibble 형태 출력시\n",
        "  tibble(sum=sum(x))} # 'sum' 이라는 열 이름 지정이 필수임\n",
        "\n",
        "map_df(n, comp)"
      ],
      "metadata": {
        "colab": {
          "base_uri": "https://localhost:8080/",
          "height": 272
        },
        "id": "BVdXVndocqgQ",
        "outputId": "94e0e1fd-814b-434a-8d75-83848a0334da"
      },
      "execution_count": 180,
      "outputs": [
        {
          "output_type": "display_data",
          "data": {
            "text/html": [
              "<table class=\"dataframe\">\n",
              "<caption>A tibble: 5 × 1</caption>\n",
              "<thead>\n",
              "\t<tr><th scope=col>sum</th></tr>\n",
              "\t<tr><th scope=col>&lt;int&gt;</th></tr>\n",
              "</thead>\n",
              "<tbody>\n",
              "\t<tr><td> 1</td></tr>\n",
              "\t<tr><td> 3</td></tr>\n",
              "\t<tr><td> 6</td></tr>\n",
              "\t<tr><td>10</td></tr>\n",
              "\t<tr><td>15</td></tr>\n",
              "</tbody>\n",
              "</table>\n"
            ],
            "text/markdown": "\nA tibble: 5 × 1\n\n| sum &lt;int&gt; |\n|---|\n|  1 |\n|  3 |\n|  6 |\n| 10 |\n| 15 |\n\n",
            "text/latex": "A tibble: 5 × 1\n\\begin{tabular}{l}\n sum\\\\\n <int>\\\\\n\\hline\n\t  1\\\\\n\t  3\\\\\n\t  6\\\\\n\t 10\\\\\n\t 15\\\\\n\\end{tabular}\n",
            "text/plain": [
              "  sum\n",
              "1  1 \n",
              "2  3 \n",
              "3  6 \n",
              "4 10 \n",
              "5 15 "
            ]
          },
          "metadata": {}
        }
      ]
    },
    {
      "cell_type": "code",
      "source": [
        "#case_when: if, else의 반복을 줄여줌\n",
        "sdt=strong_dragon$total\n",
        "how_strong=case_when(sdt<=650 ~ \"strong\",\n",
        "          sdt<=700 ~ \"stronger\",\n",
        "          TRUE ~ \"strongest!\") #TRUE for else\n",
        "\n",
        "#between(x,a,b): x가 a이상 b이하면 TRUE (아래처럼 filter와 같이 사용)\n",
        "strong_dragon|>mutate(how_strong=how_strong)|>filter(between(total,650,800))|>head(5)"
      ],
      "metadata": {
        "colab": {
          "base_uri": "https://localhost:8080/",
          "height": 255
        },
        "id": "g3TxZDNtdKuj",
        "outputId": "05332707-75e5-40cc-be59-db96a5890f60"
      },
      "execution_count": 191,
      "outputs": [
        {
          "output_type": "display_data",
          "data": {
            "text/html": [
              "<table class=\"dataframe\">\n",
              "<caption>A data.frame: 5 × 4</caption>\n",
              "<thead>\n",
              "\t<tr><th></th><th scope=col>name</th><th scope=col>total</th><th scope=col>gen</th><th scope=col>how_strong</th></tr>\n",
              "\t<tr><th></th><th scope=col>&lt;chr&gt;</th><th scope=col>&lt;int&gt;</th><th scope=col>&lt;chr&gt;</th><th scope=col>&lt;chr&gt;</th></tr>\n",
              "</thead>\n",
              "<tbody>\n",
              "\t<tr><th scope=row>1</th><td>레쿠쟈    </td><td>680</td><td>3</td><td>stronger  </td></tr>\n",
              "\t<tr><th scope=row>2</th><td>디아루가  </td><td>680</td><td>4</td><td>stronger  </td></tr>\n",
              "\t<tr><th scope=row>3</th><td>펄기아    </td><td>680</td><td>4</td><td>stronger  </td></tr>\n",
              "\t<tr><th scope=row>4</th><td>아르세우스</td><td>720</td><td>4</td><td>strongest!</td></tr>\n",
              "\t<tr><th scope=row>5</th><td>레시라무  </td><td>680</td><td>5</td><td>stronger  </td></tr>\n",
              "</tbody>\n",
              "</table>\n"
            ],
            "text/markdown": "\nA data.frame: 5 × 4\n\n| <!--/--> | name &lt;chr&gt; | total &lt;int&gt; | gen &lt;chr&gt; | how_strong &lt;chr&gt; |\n|---|---|---|---|---|\n| 1 | 레쿠쟈     | 680 | 3 | stronger   |\n| 2 | 디아루가   | 680 | 4 | stronger   |\n| 3 | 펄기아     | 680 | 4 | stronger   |\n| 4 | 아르세우스 | 720 | 4 | strongest! |\n| 5 | 레시라무   | 680 | 5 | stronger   |\n\n",
            "text/latex": "A data.frame: 5 × 4\n\\begin{tabular}{r|llll}\n  & name & total & gen & how\\_strong\\\\\n  & <chr> & <int> & <chr> & <chr>\\\\\n\\hline\n\t1 & 레쿠쟈     & 680 & 3 & stronger  \\\\\n\t2 & 디아루가   & 680 & 4 & stronger  \\\\\n\t3 & 펄기아     & 680 & 4 & stronger  \\\\\n\t4 & 아르세우스 & 720 & 4 & strongest!\\\\\n\t5 & 레시라무   & 680 & 5 & stronger  \\\\\n\\end{tabular}\n",
            "text/plain": [
              "  name       total gen how_strong\n",
              "1 레쿠쟈     680   3   stronger  \n",
              "2 디아루가   680   4   stronger  \n",
              "3 펄기아     680   4   stronger  \n",
              "4 아르세우스 720   4   strongest!\n",
              "5 레시라무   680   5   stronger  "
            ]
          },
          "metadata": {}
        }
      ]
    },
    {
      "cell_type": "markdown",
      "source": [
        "\n",
        "\n",
        "---\n",
        "\n"
      ],
      "metadata": {
        "id": "OT73_QWlfJcG"
      }
    }
  ]
}